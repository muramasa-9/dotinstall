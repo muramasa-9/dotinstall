{
 "metadata": {
  "language_info": {
   "codemirror_mode": {
    "name": "ipython",
    "version": 3
   },
   "file_extension": ".py",
   "mimetype": "text/x-python",
   "name": "python",
   "nbconvert_exporter": "python",
   "pygments_lexer": "ipython3",
   "version": "3.9.0-final"
  },
  "orig_nbformat": 2,
  "kernelspec": {
   "name": "Python 3.9.0 64-bit ('3.9.0')",
   "display_name": "Python 3.9.0 64-bit ('3.9.0')",
   "metadata": {
    "interpreter": {
     "hash": "9f3bd141eb37005c6f2e356b26cece56e72b032260605cf151085dc9b8e4b3a1"
    }
   }
  }
 },
 "nbformat": 4,
 "nbformat_minor": 2,
 "cells": [
  {
   "cell_type": "code",
   "execution_count": 1,
   "metadata": {},
   "outputs": [],
   "source": [
    "import requests\n",
    "import pandas as pd"
   ]
  },
  {
   "cell_type": "code",
   "execution_count": 2,
   "metadata": {},
   "outputs": [],
   "source": [
    "REQUEST_URL = 'https://app.rakuten.co.jp/services/api/Travel/SimpleHotelSearch/20170426'\n",
    "APP_ID = '1018551006520402329'"
   ]
  },
  {
   "cell_type": "code",
   "execution_count": 14,
   "metadata": {},
   "outputs": [],
   "source": [
    "params = {\n",
    "    'format': 'json',\n",
    "    'largeClassCode': 'japan',\n",
    "    'middleClassCode': 'okinawa',\n",
    "    'smallClassCode': 'nahashi',\n",
    "    'applicationId': APP_ID\n",
    "}"
   ]
  },
  {
   "cell_type": "code",
   "execution_count": 15,
   "metadata": {},
   "outputs": [],
   "source": [
    "res = requests.get(REQUEST_URL, params)"
   ]
  },
  {
   "cell_type": "code",
   "execution_count": 16,
   "metadata": {},
   "outputs": [],
   "source": [
    "result = res.json()"
   ]
  },
  {
   "cell_type": "code",
   "execution_count": 17,
   "metadata": {},
   "outputs": [
    {
     "output_type": "execute_result",
     "data": {
      "text/plain": [
       "<Response [200]>"
      ]
     },
     "metadata": {},
     "execution_count": 17
    }
   ],
   "source": [
    "res"
   ]
  },
  {
   "cell_type": "code",
   "execution_count": 29,
   "metadata": {},
   "outputs": [
    {
     "output_type": "execute_result",
     "data": {
      "text/plain": [
       "{'hotelNo': 148000,\n",
       " 'hotelName': 'ハイアットリージェンシー那覇沖縄',\n",
       " 'hotelInformationUrl': 'https://img.travel.rakuten.co.jp/image/tr/api/hs/dQ4dX/?f_no=148000',\n",
       " 'planListUrl': 'https://img.travel.rakuten.co.jp/image/tr/api/hs/cHNRi/?f_no=148000&f_flg=PLAN',\n",
       " 'dpPlanListUrl': 'https://img.travel.rakuten.co.jp/image/tr/api/hs/TDZXm/?noTomariHotel=148000',\n",
       " 'reviewUrl': 'https://img.travel.rakuten.co.jp/image/tr/api/hs/RmfmX/?f_hotel_no=148000',\n",
       " 'hotelKanaName': 'はいあっとりーじぇんしーなはおきなわ',\n",
       " 'hotelSpecial': '都会の喧騒を忘れさせる自然溢れる立地。ハイアットならではの贅沢なホテルステイをお楽しみください。',\n",
       " 'hotelMinCharge': 6200,\n",
       " 'latitude': 94357.69,\n",
       " 'longitude': 459690.88,\n",
       " 'postalCode': '900-0013',\n",
       " 'address1': '沖縄県',\n",
       " 'address2': '那覇市牧志3-6-20',\n",
       " 'telephoneNo': '098-866-8888',\n",
       " 'faxNo': '098-866-8111',\n",
       " 'access': '那覇空港から車で約２０分、ゆいレール「牧志駅」から徒歩７分',\n",
       " 'parkingInformation': '有り\\u3000１１３台\\u3000１５００円（税込み／泊）',\n",
       " 'nearestStation': None,\n",
       " 'hotelImageUrl': 'https://img.travel.rakuten.co.jp/share/HOTEL/148000/148000.jpg',\n",
       " 'hotelThumbnailUrl': 'https://img.travel.rakuten.co.jp/HIMG/90/148000.jpg',\n",
       " 'roomImageUrl': 'https://img.travel.rakuten.co.jp/share/HOTEL/148000/148000_kan.jpg',\n",
       " 'roomThumbnailUrl': 'https://img.travel.rakuten.co.jp/HIMG/INTERIOR/148000.jpg',\n",
       " 'hotelMapImageUrl': 'https://img.travel.rakuten.co.jp/share/HOTEL/148000/148000map.gif',\n",
       " 'reviewCount': 402,\n",
       " 'reviewAverage': 4.55,\n",
       " 'userReview': '他の方も書かれてはおられますが、クラブラウンジはあるにはありますが内地の様なイメージで行くと非常にがっかりする結果になります。クラブラウンジで晩御飯を済ませようとされる方々の非常に多いのとそれ…\\u30002020-10-25 20:02:53投稿 <a href=\"https://img.travel.rakuten.co.jp/image/tr/api/hs/RmfmX/?f_hotel_no=148000\" class=\"3click\">つづきはこちら</a>'}"
      ]
     },
     "metadata": {},
     "execution_count": 29
    }
   ],
   "source": [
    "hotel_info = result['hotels'][0]['hotel'][0]['hotelBasicInfo']\n",
    "hotel_info"
   ]
  },
  {
   "cell_type": "code",
   "execution_count": 33,
   "metadata": {},
   "outputs": [
    {
     "output_type": "execute_result",
     "data": {
      "text/plain": [
       "   hotelNo         hotelName  \\\n",
       "0   148000  ハイアットリージェンシー那覇沖縄   \n",
       "\n",
       "                                 hotelInformationUrl  \\\n",
       "0  https://img.travel.rakuten.co.jp/image/tr/api/...   \n",
       "\n",
       "                                         planListUrl  \\\n",
       "0  https://img.travel.rakuten.co.jp/image/tr/api/...   \n",
       "\n",
       "                                       dpPlanListUrl  \\\n",
       "0  https://img.travel.rakuten.co.jp/image/tr/api/...   \n",
       "\n",
       "                                           reviewUrl       hotelKanaName  \\\n",
       "0  https://img.travel.rakuten.co.jp/image/tr/api/...  はいあっとりーじぇんしーなはおきなわ   \n",
       "\n",
       "                                       hotelSpecial  hotelMinCharge  latitude  \\\n",
       "0  都会の喧騒を忘れさせる自然溢れる立地。ハイアットならではの贅沢なホテルステイをお楽しみください。            6200  94357.69   \n",
       "\n",
       "   ...    parkingInformation nearestStation  \\\n",
       "0  ...  有り　１１３台　１５００円（税込み／泊）           None   \n",
       "\n",
       "                                       hotelImageUrl  \\\n",
       "0  https://img.travel.rakuten.co.jp/share/HOTEL/1...   \n",
       "\n",
       "                                   hotelThumbnailUrl  \\\n",
       "0  https://img.travel.rakuten.co.jp/HIMG/90/14800...   \n",
       "\n",
       "                                        roomImageUrl  \\\n",
       "0  https://img.travel.rakuten.co.jp/share/HOTEL/1...   \n",
       "\n",
       "                                    roomThumbnailUrl  \\\n",
       "0  https://img.travel.rakuten.co.jp/HIMG/INTERIOR...   \n",
       "\n",
       "                                    hotelMapImageUrl reviewCount  \\\n",
       "0  https://img.travel.rakuten.co.jp/share/HOTEL/1...         402   \n",
       "\n",
       "  reviewAverage                                         userReview  \n",
       "0          4.55  他の方も書かれてはおられますが、クラブラウンジはあるにはありますが内地の様なイメージで行くと...  \n",
       "\n",
       "[1 rows x 27 columns]"
      ],
      "text/html": "<div>\n<style scoped>\n    .dataframe tbody tr th:only-of-type {\n        vertical-align: middle;\n    }\n\n    .dataframe tbody tr th {\n        vertical-align: top;\n    }\n\n    .dataframe thead th {\n        text-align: right;\n    }\n</style>\n<table border=\"1\" class=\"dataframe\">\n  <thead>\n    <tr style=\"text-align: right;\">\n      <th></th>\n      <th>hotelNo</th>\n      <th>hotelName</th>\n      <th>hotelInformationUrl</th>\n      <th>planListUrl</th>\n      <th>dpPlanListUrl</th>\n      <th>reviewUrl</th>\n      <th>hotelKanaName</th>\n      <th>hotelSpecial</th>\n      <th>hotelMinCharge</th>\n      <th>latitude</th>\n      <th>...</th>\n      <th>parkingInformation</th>\n      <th>nearestStation</th>\n      <th>hotelImageUrl</th>\n      <th>hotelThumbnailUrl</th>\n      <th>roomImageUrl</th>\n      <th>roomThumbnailUrl</th>\n      <th>hotelMapImageUrl</th>\n      <th>reviewCount</th>\n      <th>reviewAverage</th>\n      <th>userReview</th>\n    </tr>\n  </thead>\n  <tbody>\n    <tr>\n      <th>0</th>\n      <td>148000</td>\n      <td>ハイアットリージェンシー那覇沖縄</td>\n      <td>https://img.travel.rakuten.co.jp/image/tr/api/...</td>\n      <td>https://img.travel.rakuten.co.jp/image/tr/api/...</td>\n      <td>https://img.travel.rakuten.co.jp/image/tr/api/...</td>\n      <td>https://img.travel.rakuten.co.jp/image/tr/api/...</td>\n      <td>はいあっとりーじぇんしーなはおきなわ</td>\n      <td>都会の喧騒を忘れさせる自然溢れる立地。ハイアットならではの贅沢なホテルステイをお楽しみください。</td>\n      <td>6200</td>\n      <td>94357.69</td>\n      <td>...</td>\n      <td>有り　１１３台　１５００円（税込み／泊）</td>\n      <td>None</td>\n      <td>https://img.travel.rakuten.co.jp/share/HOTEL/1...</td>\n      <td>https://img.travel.rakuten.co.jp/HIMG/90/14800...</td>\n      <td>https://img.travel.rakuten.co.jp/share/HOTEL/1...</td>\n      <td>https://img.travel.rakuten.co.jp/HIMG/INTERIOR...</td>\n      <td>https://img.travel.rakuten.co.jp/share/HOTEL/1...</td>\n      <td>402</td>\n      <td>4.55</td>\n      <td>他の方も書かれてはおられますが、クラブラウンジはあるにはありますが内地の様なイメージで行くと...</td>\n    </tr>\n  </tbody>\n</table>\n<p>1 rows × 27 columns</p>\n</div>"
     },
     "metadata": {},
     "execution_count": 33
    }
   ],
   "source": [
    "pd.DataFrame(hotel_info, index=[0])"
   ]
  },
  {
   "cell_type": "code",
   "execution_count": 34,
   "metadata": {},
   "outputs": [
    {
     "output_type": "execute_result",
     "data": {
      "text/plain": [
       "   hotelNo         hotelName  \\\n",
       "0   148000  ハイアットリージェンシー那覇沖縄   \n",
       "\n",
       "                                 hotelInformationUrl  \\\n",
       "0  https://img.travel.rakuten.co.jp/image/tr/api/...   \n",
       "\n",
       "                                         planListUrl  \\\n",
       "0  https://img.travel.rakuten.co.jp/image/tr/api/...   \n",
       "\n",
       "                                       dpPlanListUrl  \\\n",
       "0  https://img.travel.rakuten.co.jp/image/tr/api/...   \n",
       "\n",
       "                                           reviewUrl       hotelKanaName  \\\n",
       "0  https://img.travel.rakuten.co.jp/image/tr/api/...  はいあっとりーじぇんしーなはおきなわ   \n",
       "\n",
       "                                       hotelSpecial  hotelMinCharge  latitude  \\\n",
       "0  都会の喧騒を忘れさせる自然溢れる立地。ハイアットならではの贅沢なホテルステイをお楽しみください。            6200  94357.69   \n",
       "\n",
       "   ...    parkingInformation nearestStation  \\\n",
       "0  ...  有り　１１３台　１５００円（税込み／泊）           None   \n",
       "\n",
       "                                       hotelImageUrl  \\\n",
       "0  https://img.travel.rakuten.co.jp/share/HOTEL/1...   \n",
       "\n",
       "                                   hotelThumbnailUrl  \\\n",
       "0  https://img.travel.rakuten.co.jp/HIMG/90/14800...   \n",
       "\n",
       "                                        roomImageUrl  \\\n",
       "0  https://img.travel.rakuten.co.jp/share/HOTEL/1...   \n",
       "\n",
       "                                    roomThumbnailUrl  \\\n",
       "0  https://img.travel.rakuten.co.jp/HIMG/INTERIOR...   \n",
       "\n",
       "                                    hotelMapImageUrl reviewCount  \\\n",
       "0  https://img.travel.rakuten.co.jp/share/HOTEL/1...         402   \n",
       "\n",
       "  reviewAverage                                         userReview  \n",
       "0          4.55  他の方も書かれてはおられますが、クラブラウンジはあるにはありますが内地の様なイメージで行くと...  \n",
       "\n",
       "[1 rows x 27 columns]"
      ],
      "text/html": "<div>\n<style scoped>\n    .dataframe tbody tr th:only-of-type {\n        vertical-align: middle;\n    }\n\n    .dataframe tbody tr th {\n        vertical-align: top;\n    }\n\n    .dataframe thead th {\n        text-align: right;\n    }\n</style>\n<table border=\"1\" class=\"dataframe\">\n  <thead>\n    <tr style=\"text-align: right;\">\n      <th></th>\n      <th>hotelNo</th>\n      <th>hotelName</th>\n      <th>hotelInformationUrl</th>\n      <th>planListUrl</th>\n      <th>dpPlanListUrl</th>\n      <th>reviewUrl</th>\n      <th>hotelKanaName</th>\n      <th>hotelSpecial</th>\n      <th>hotelMinCharge</th>\n      <th>latitude</th>\n      <th>...</th>\n      <th>parkingInformation</th>\n      <th>nearestStation</th>\n      <th>hotelImageUrl</th>\n      <th>hotelThumbnailUrl</th>\n      <th>roomImageUrl</th>\n      <th>roomThumbnailUrl</th>\n      <th>hotelMapImageUrl</th>\n      <th>reviewCount</th>\n      <th>reviewAverage</th>\n      <th>userReview</th>\n    </tr>\n  </thead>\n  <tbody>\n    <tr>\n      <th>0</th>\n      <td>148000</td>\n      <td>ハイアットリージェンシー那覇沖縄</td>\n      <td>https://img.travel.rakuten.co.jp/image/tr/api/...</td>\n      <td>https://img.travel.rakuten.co.jp/image/tr/api/...</td>\n      <td>https://img.travel.rakuten.co.jp/image/tr/api/...</td>\n      <td>https://img.travel.rakuten.co.jp/image/tr/api/...</td>\n      <td>はいあっとりーじぇんしーなはおきなわ</td>\n      <td>都会の喧騒を忘れさせる自然溢れる立地。ハイアットならではの贅沢なホテルステイをお楽しみください。</td>\n      <td>6200</td>\n      <td>94357.69</td>\n      <td>...</td>\n      <td>有り　１１３台　１５００円（税込み／泊）</td>\n      <td>None</td>\n      <td>https://img.travel.rakuten.co.jp/share/HOTEL/1...</td>\n      <td>https://img.travel.rakuten.co.jp/HIMG/90/14800...</td>\n      <td>https://img.travel.rakuten.co.jp/share/HOTEL/1...</td>\n      <td>https://img.travel.rakuten.co.jp/HIMG/INTERIOR...</td>\n      <td>https://img.travel.rakuten.co.jp/share/HOTEL/1...</td>\n      <td>402</td>\n      <td>4.55</td>\n      <td>他の方も書かれてはおられますが、クラブラウンジはあるにはありますが内地の様なイメージで行くと...</td>\n    </tr>\n  </tbody>\n</table>\n<p>1 rows × 27 columns</p>\n</div>"
     },
     "metadata": {},
     "execution_count": 34
    }
   ],
   "source": [
    "hotel_info = result['hotels'][0]['hotel'][0]['hotelBasicInfo']\n",
    "pd.DataFrame(hotel_info, index=[0])"
   ]
  },
  {
   "cell_type": "code",
   "execution_count": 38,
   "metadata": {},
   "outputs": [],
   "source": [
    "df = pd.DataFrame()"
   ]
  },
  {
   "cell_type": "code",
   "execution_count": 41,
   "metadata": {},
   "outputs": [],
   "source": [
    "hotels = result['hotels']"
   ]
  },
  {
   "cell_type": "code",
   "execution_count": 47,
   "metadata": {
    "tags": []
   },
   "outputs": [],
   "source": [
    "df = pd.DataFrame()\n",
    "hotels = result['hotels']\n",
    "\n",
    "for i, hotel in enumerate(hotels):\n",
    "    hotel_info = hotel['hotel'][0]['hotelBasicInfo']\n",
    "    _df = pd.DataFrame(hotel_info, index=[i])\n",
    "    df = df.append(_df)"
   ]
  },
  {
   "cell_type": "code",
   "execution_count": 49,
   "metadata": {},
   "outputs": [
    {
     "output_type": "execute_result",
     "data": {
      "text/plain": [
       "Index(['hotelNo', 'hotelName', 'hotelInformationUrl', 'planListUrl',\n",
       "       'dpPlanListUrl', 'reviewUrl', 'hotelKanaName', 'hotelSpecial',\n",
       "       'hotelMinCharge', 'latitude', 'longitude', 'postalCode', 'address1',\n",
       "       'address2', 'telephoneNo', 'faxNo', 'access', 'parkingInformation',\n",
       "       'nearestStation', 'hotelImageUrl', 'hotelThumbnailUrl', 'roomImageUrl',\n",
       "       'roomThumbnailUrl', 'hotelMapImageUrl', 'reviewCount', 'reviewAverage',\n",
       "       'userReview'],\n",
       "      dtype='object')"
      ]
     },
     "metadata": {},
     "execution_count": 49
    }
   ],
   "source": [
    "df.columns"
   ]
  },
  {
   "cell_type": "code",
   "execution_count": 58,
   "metadata": {},
   "outputs": [],
   "source": [
    "df[['hotelName', 'hotelInformationUrl', 'hotelMinCharge', 'postalCode', 'address1', 'address2', 'telephoneNo', 'parkingInformation', 'nearestStation',  'reviewAverage']].to_csv('hotel.csv', index=False)"
   ]
  },
  {
   "cell_type": "code",
   "execution_count": null,
   "metadata": {},
   "outputs": [],
   "source": []
  }
 ]
}