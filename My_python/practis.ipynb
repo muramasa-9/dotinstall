{
 "cells": [
  {
   "cell_type": "code",
   "execution_count": null,
   "metadata": {},
   "outputs": [],
   "source": []
  }
 ],
 "metadata": {
  "kernelspec": {
   "name": "Python 3.9.0 64-bit ('3.9.0')",
   "display_name": "Python 3.9.0 64-bit ('3.9.0')",
   "metadata": {
    "interpreter": {
     "hash": "9f3bd141eb37005c6f2e356b26cece56e72b032260605cf151085dc9b8e4b3a1"
    }
   }
  }
 },
 "nbformat": 4,
 "nbformat_minor": 4
}